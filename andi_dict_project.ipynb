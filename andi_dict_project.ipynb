{
 "cells": [
  {
   "cell_type": "code",
   "execution_count": 1,
   "metadata": {},
   "outputs": [],
   "source": [
    "import pandas as pd\n",
    "import sqlite3"
   ]
  },
  {
   "cell_type": "code",
   "execution_count": 2,
   "metadata": {},
   "outputs": [],
   "source": [
    "xls1 = pd.ExcelFile('alisultanova.xlsx')\n",
    "ali = pd.read_excel(xls1, 'all')"
   ]
  },
  {
   "cell_type": "code",
   "execution_count": 3,
   "metadata": {},
   "outputs": [],
   "source": [
    "xls2 = pd.ExcelFile('sulejmanov.xlsx')\n",
    "sul_nouns = pd.read_excel(xls2, 'nouns')\n",
    "sul_verbs = pd.read_excel(xls2, 'verbs')\n",
    "sul_other = pd.read_excel(xls2, 'other')"
   ]
  },
  {
   "cell_type": "markdown",
   "metadata": {},
   "source": [
    "Я работаю над словарём андийского языка. Есть старые лексикографические диссертации (Алисултанова) и (Сулейманов), которые я перевожу в вид таблиц. Для (Алисултанова) это 1 таблица, а для (Сулейманов) 3 - для глаголов, существительных и всего остального (т.к. нужны разные типы форм для сущ. и глаголов, соответственно набор столбцов разный). Слова в таблицах из (Алисултанова) и (Сулейманов) могут совпадать."
   ]
  },
  {
   "cell_type": "code",
   "execution_count": 4,
   "metadata": {},
   "outputs": [],
   "source": [
    "conn = sqlite3.connect('andi_dict.db')"
   ]
  },
  {
   "cell_type": "code",
   "execution_count": 5,
   "metadata": {},
   "outputs": [],
   "source": [
    "c = conn.cursor()"
   ]
  },
  {
   "cell_type": "markdown",
   "metadata": {},
   "source": [
    "Создаю таблицу на основе работы (Алисултанова), вношу в неё данные:"
   ]
  },
  {
   "cell_type": "code",
   "execution_count": 6,
   "metadata": {},
   "outputs": [],
   "source": [
    "c.execute(\"DROP TABLE IF EXISTS ali\")\n",
    "c.execute(\"CREATE TABLE IF NOT EXISTS ali(слово text, перевод text, примеры text, комментарии text, источник text)\")\n",
    "for i, row in ali.iterrows():\n",
    "    c.execute(\"INSERT INTO ali VALUES (?, ?, ?, ?, ?)\", (row[\"слово\"], row[\"перевод\"], row[\"примеры\"], row[\"комментарии\"], row[\"источник\"]))"
   ]
  },
  {
   "cell_type": "markdown",
   "metadata": {},
   "source": [
    "Смотрю, получилось ли:"
   ]
  },
  {
   "cell_type": "code",
   "execution_count": 7,
   "metadata": {},
   "outputs": [
    {
     "name": "stdout",
     "output_type": "stream",
     "text": [
      "('(ц1а) рик1уду', 'гореть', None, None, 'Алисултанова 2009')\n",
      "('t1игъгъу', 'крошечный', None, None, 'Алисултанова 2009; 2010')\n",
      "('аба', 'широкий халат, плащ', None, 'араб.', 'Алисултанова 2009')\n",
      "('абада', 'нареч. никогда, ни за что, ни при каких обстоятельствах', None, None, 'Алисултанова 2009; 2010')\n",
      "('абахор ', 'опухоль', None, None, 'Алисултанова 2009')\n",
      "('аббареги', 'изгой, беглец, чужак, отверженный', None, 'перс.', 'Алисултанова 2009; 2010')\n",
      "('аббарегилъир', 'проживание (странствие) в чужом краю', None, 'авар.', 'Алисултанова 2009')\n",
      "('аббасси ', 'монета в 20 копеек', None, 'перс.', 'Алисултанова 2009')\n",
      "('абдал', 'дурной, глупый, сумасшедший', None, 'авар. < араб. ', 'Алисултанова 2009; 2010')\n",
      "('абдаллъир', 'глупость, безумие', None, 'авар.', 'Алисултанова 2009')\n",
      "('абжаб', 'начатый', None, None, 'Алисултанова 2009; 2010')\n",
      "('абжаб', 'смешанный', None, None, 'Алисултанова 2009; 2010')\n"
     ]
    }
   ],
   "source": [
    "c.execute('SELECT * FROM ali')\n",
    "print(c.fetchone())\n",
    "print(c.fetchone())\n",
    "print(c.fetchone())\n",
    "print(c.fetchone())\n",
    "print(c.fetchone())\n",
    "print(c.fetchone())\n",
    "print(c.fetchone())\n",
    "print(c.fetchone())\n",
    "print(c.fetchone())\n",
    "print(c.fetchone())\n",
    "print(c.fetchone())\n",
    "print(c.fetchone())"
   ]
  },
  {
   "cell_type": "markdown",
   "metadata": {},
   "source": [
    "Создаю таблицу с существительными на основе работы (Сулейманов), вношу в неё данные:"
   ]
  },
  {
   "cell_type": "code",
   "execution_count": 8,
   "metadata": {},
   "outputs": [],
   "source": [
    "c.execute(\"DROP TABLE IF EXISTS sul_nouns\")\n",
    "c.execute(\"CREATE TABLE IF NOT EXISTS sul_nouns(страница text, слово text, перевод text, класс text, pl text, obl text, пример text, комментарий text)\")\n",
    "for i, row in sul_nouns.iterrows():\n",
    "    c.execute(\"INSERT INTO sul_nouns VALUES (?, ?, ?, ?, ?, ?, ?, ?)\", (row[\"страница\"], row[\"слово\"], row[\"перевод\"], row[\"класс\"], row[\"pl\"], row[\"obl\"], row[\"пример\"], row[\"комментарий\"]))"
   ]
  },
  {
   "cell_type": "markdown",
   "metadata": {},
   "source": [
    "Создаю таблицы с глаголами и всем остальным на основе работы (Сулейманов), вношу в них данные:"
   ]
  },
  {
   "cell_type": "code",
   "execution_count": 9,
   "metadata": {},
   "outputs": [],
   "source": [
    "c.execute(\"DROP TABLE IF EXISTS sul_verbs\")\n",
    "c.execute(\"CREATE TABLE IF NOT EXISTS sul_verbs(страница text, слово text, перевод text, prs text, pst text, пример text, комментарий text)\")\n",
    "for i, row in sul_verbs.iterrows():\n",
    "    c.execute(\"INSERT INTO sul_verbs VALUES (?, ?, ?, ?, ?, ?, ?)\", (row[\"страница\"], row[\"слово\"], row[\"перевод\"], row[\"prs\"], row[\"pst\"], row[\"пример\"], row[\"комментарий\"]))\n",
    "c.execute(\"DROP TABLE IF EXISTS sul_other\")\n",
    "c.execute(\"CREATE TABLE IF NOT EXISTS sul_other(страница text, слово text, перевод text, пример text, комментарий text)\")\n",
    "for i, row in sul_other.iterrows():\n",
    "    c.execute(\"INSERT INTO sul_other VALUES (?, ?, ?, ?, ?)\", (row[\"страница\"], row[\"слово\"], row[\"перевод\"], row[\"пример\"], row[\"комментарий\"]))"
   ]
  },
  {
   "cell_type": "code",
   "execution_count": 10,
   "metadata": {},
   "outputs": [],
   "source": [
    "conn.commit()"
   ]
  },
  {
   "cell_type": "markdown",
   "metadata": {},
   "source": [
    "Можно добавлять новые вхождения из источников:"
   ]
  },
  {
   "cell_type": "code",
   "execution_count": 11,
   "metadata": {},
   "outputs": [],
   "source": [
    "#c.execute(\"INSERT INTO ali VALUES ('пример','пример', 'пример с примером', 'это только для примера', 'из головы')\")"
   ]
  },
  {
   "cell_type": "markdown",
   "metadata": {},
   "source": [
    "Можно сортировать по странице в источнике:"
   ]
  },
  {
   "cell_type": "code",
   "execution_count": 12,
   "metadata": {},
   "outputs": [
    {
     "name": "stdout",
     "output_type": "stream",
     "text": [
      "('100, 149', 'рокъир', 'мир, перемирие', 'III', None, None, None, None)\n",
      "('100, 152', 'гьанарокьи', 'ласка', 'IV', None, None, None, None)\n",
      "('102', 'буц1ц1ир', 'скот, имущество', None, None, None, None, None)\n",
      "('102', 'къуну', 'увула', None, None, None, None, None)\n",
      "('102, 139', 'ц1ц1уку', 'мех, шкура', 'III', None, None, None, None)\n",
      "('103', 'аблълъинлъир', 'сходство', None, None, None, None, None)\n",
      "('103', 'инкубатур', 'инкубатор', None, None, None, None, None)\n",
      "('103', 'инспектур', 'инспектор', None, None, None, None, None)\n",
      "('103', 'лектур', 'лектор', None, None, None, None, None)\n"
     ]
    }
   ],
   "source": [
    "c.execute('SELECT * FROM sul_nouns ORDER BY страница')\n",
    "print(c.fetchone())\n",
    "print(c.fetchone())\n",
    "print(c.fetchone())\n",
    "print(c.fetchone())\n",
    "print(c.fetchone())\n",
    "print(c.fetchone())\n",
    "print(c.fetchone())\n",
    "print(c.fetchone())\n",
    "print(c.fetchone())"
   ]
  },
  {
   "cell_type": "markdown",
   "metadata": {},
   "source": [
    "Можно сортировать по алфавиту (и в обратном порядке, заменив ASC на DESC):"
   ]
  },
  {
   "cell_type": "code",
   "execution_count": 13,
   "metadata": {
    "scrolled": false
   },
   "outputs": [
    {
     "name": "stdout",
     "output_type": "stream",
     "text": [
      "('171', '(исивл1) рохъ', 'ребро', None, '(исивл1) рохъол', None, None, None)\n",
      "('147, 171', '(масуй) чарухъ', '(сафьяновая) галоша', 'III', '(масвол) чарухъол', None, None, None)\n",
      "('154', '(мйаъарул1) л1уол1а', 'мозг (головной)', 'V', None, None, None, None)\n",
      "('154', '(моч1ищур) гьакъу', 'матка', 'V', '(моч1иллур) гьакъойл (1 кл.), моч1иллил1 гьакъойл (2 кл.)', None, None, None)\n",
      "('98', '*овхх', 'баюканье', None, None, None, None, None)\n",
      "('55', 'Буцур', 'название горы', None, None, None, None, None)\n",
      "('43, 160', 'аба', 'плащ (мужской и женский)', 'V', None, None, None, None)\n",
      "('135', 'аббарег', 'пришелец', 'I/II', None, None, None, None)\n",
      "('106, 150', 'абжар', 'сложение', 'III', None, None, None, None)\n",
      "('103', 'аблълъинлъир', 'сходство', None, None, None, None, None)\n",
      "('133', 'абххазйоллув', 'абхазец', 'I', None, None, None, None)\n",
      "('134', 'абххазйоллуй', 'абхазка', 'II', None, None, None, None)\n",
      "('156', 'абчохол', 'помой, месиво (похлебка для скота, обычно для коров)', 'V', None, None, None, None)\n",
      "('35, 143, 171', 'авлахъ', 'простор, равнина', 'III', 'авлахъол', None, None, None)\n",
      "('106, 133', 'аврег', 'пророк', 'I', None, None, None, None)\n",
      "('148', 'автомашин', 'автомашина', 'III', None, None, None, None)\n",
      "('46', 'агъаз', 'внимание', None, None, None, None, None)\n",
      "('46', 'агъзин', 'негодяй', None, None, None, None, None)\n"
     ]
    }
   ],
   "source": [
    "c.execute('SELECT * FROM sul_nouns ORDER BY слово ASC')\n",
    "print(c.fetchone())\n",
    "print(c.fetchone())\n",
    "print(c.fetchone())\n",
    "print(c.fetchone())\n",
    "print(c.fetchone())\n",
    "print(c.fetchone())\n",
    "print(c.fetchone())\n",
    "print(c.fetchone())\n",
    "print(c.fetchone())\n",
    "print(c.fetchone())\n",
    "print(c.fetchone())\n",
    "print(c.fetchone())\n",
    "print(c.fetchone())\n",
    "print(c.fetchone())\n",
    "print(c.fetchone())\n",
    "print(c.fetchone())\n",
    "print(c.fetchone())\n",
    "print(c.fetchone())"
   ]
  },
  {
   "cell_type": "markdown",
   "metadata": {},
   "source": [
    "Можно показать все существительные I класса (например):"
   ]
  },
  {
   "cell_type": "code",
   "execution_count": 14,
   "metadata": {},
   "outputs": [
    {
     "name": "stdout",
     "output_type": "stream",
     "text": [
      "('абххазйоллув',)\n",
      "('аврег',)\n",
      "('азирбейжаноллув',)\n",
      "('аллагь',)\n",
      "('арабйоллув',)\n",
      "('ашоллав',)\n",
      "('багвалов',)\n",
      "('будалаъ',)\n",
      "('будун',)\n",
      "('бутайлум',)\n",
      "('бутуруллув',)\n",
      "('ваххдоб',)\n",
      "('ваццъал',)\n",
      "('вокьот1иннйа',)\n",
      "('вокьусси',)\n",
      "('вокьусси',)\n",
      "('воцц',)\n",
      "('вошо // вощо',)\n",
      "('гуржйоллув',)\n",
      "('гъагъоррав',)\n",
      "('гъуннав',)\n",
      "('гьек1а',)\n",
      "('дада',)\n",
      "('даргйоллув',)\n",
      "('дибир',)\n",
      "('зилурав',)\n",
      "('зунурачи',)\n",
      "('има',)\n",
      "('имакьеру',)\n",
      "('имам',)\n",
      "('инххиллав',)\n",
      "('ихум',)\n",
      "('кашиш',)\n",
      "('коххирав',)\n",
      "('кунт1а',)\n",
      "('къади',)\n",
      "('къаличи',)\n",
      "('къгъваннав',)\n",
      "('лезгйоллув',)\n",
      "('малайк',)\n",
      "('меннав',)\n",
      "('нартоллув',)\n",
      "('нугъаллув',)\n",
      "('нусо',)\n",
      "('оруссиррав',)\n",
      "('рик1к1унарав',)\n",
      "('табасараноллув',)\n",
      "('турколлув',)\n",
      "('украйноллув',)\n",
      "('хунчч',)\n",
      "('хьиндалоллув',)\n",
      "('ц1ц1унн*арав',)\n",
      "('ч1амалав',)\n",
      "('чохъурав',)\n",
      "('эрменйоллув',)\n"
     ]
    }
   ],
   "source": [
    "for row in c.execute('SELECT слово FROM sul_nouns WHERE класс = \"I\"'):\n",
    "    print(row)"
   ]
  },
  {
   "cell_type": "markdown",
   "metadata": {},
   "source": [
    "Можно найти слова, содержащие определённую последовательность символов:"
   ]
  },
  {
   "cell_type": "code",
   "execution_count": 15,
   "metadata": {},
   "outputs": [
    {
     "name": "stdout",
     "output_type": "stream",
     "text": [
      "('43, 160', 'аба', 'плащ (мужской и женский)', 'V', None, None, None, None)\n",
      "('135', 'аббарег', 'пришелец', 'I/II', None, None, None, None)\n",
      "('106, 150', 'абжар', 'сложение', 'III', None, None, None, None)\n",
      "('103', 'аблълъинлъир', 'сходство', None, None, None, None, None)\n",
      "('133', 'абххазйоллув', 'абхазец', 'I', None, None, None, None)\n",
      "('134', 'абххазйоллуй', 'абхазка', 'II', None, None, None, None)\n",
      "('156', 'абчохол', 'помой, месиво (похлебка для скота, обычно для коров)', 'V', None, None, None, None)\n",
      "('149', 'адаб', 'уважение', 'III', None, None, None, None)\n",
      "('150', 'азаб', 'мучение', 'III', None, None, None, None)\n",
      "('34, 88, 153', 'акъраб', 'скорпион', 'IV', 'акърайл', None, None, 'чан., зил. мн. ч. акърабил')\n",
      "('133', 'арабйоллув', 'араб', 'I', None, None, None, None)\n",
      "('134', 'арабйоллуй', 'арабка', 'II', None, None, None, None)\n",
      "('134', 'баба', 'мама', 'II', None, None, None, None)\n",
      "('48, 152, 170', 'бабущ', 'утка', 'IV', 'бабущол', None, None, None)\n",
      "('44', 'вабаъ', 'холера', None, None, None, None, None)\n",
      "('140, 141, 165', 'гъабу', 'лоза (виноградная)', 'III', 'гъабодул', None, None, None)\n",
      "('39, 158, 177', 'гъварзаб', 'молот', 'V', 'гъварзйол', None, None, None)\n",
      "('39, 144, 175', 'гьабу', 'уголь (каменный и деревесный)', 'III', 'гьабол', None, None, None)\n",
      "('150', 'гьисаб', 'арифметика', 'III', None, None, None, None)\n",
      "('39, 138, 178', 'даб', 'десна', 'III', 'дойл // тойл', None, None, None)\n",
      "('149', 'джаваб', 'ответ', 'III', None, None, None, None)\n",
      "('52, 134', 'йаййа // бабушка', 'тетя', 'II', None, None, None, None)\n",
      "('149', 'йатаб', 'этап (группа заключенных, отправляемых в другую тюрьму этапом)', 'III', None, None, None, None)\n",
      "('157', 'къгъабгъол', 'стержень, вибратор (букв. трахтушка), служит для регулирования притока зерна из ящика (помещаемого над жерновами) в соответствующее отверстие верхнего жернова.', 'V', None, None, None, None)\n",
      "('139', 'къгъабкъгъал', 'пленка (застывший слой глазной серы)', 'III', None, None, None, None)\n",
      "('119', 'къгъаблъир', 'ширина', None, None, None, None, None)\n",
      "('39', 'лабкъур', 'мерка вообще', None, None, None, None, None)\n",
      "('161', 'лаблал', 'светлячок', 'VI', None, None, None, None)\n",
      "('148', 'лабци', 'подметка', 'III', None, None, None, None)\n",
      "('73', 'пабрик', 'фабрика', None, None, None, None, None)\n",
      "('46, 89, 161, 170', 'саб // сааб', 'амулет (трехугольный)', 'V', 'сабол', None, None, 'зил. сабаб')\n",
      "('149', 'ссабру', 'выдержанность, терпение, терпеливость', 'III', None, None, None, None)\n",
      "('144', 'ссилабчи', 'большой так (для стирки)', 'III', None, None, None, None)\n",
      "('54', 'т1алаб', 'забота', None, None, None, None, None)\n",
      "('133', 'табасараноллув', 'табасаранец', 'I', None, None, None, None)\n",
      "('134', 'табассараноллуй', 'табасаранка', 'II', None, None, None, None)\n",
      "('39, 146, 167', 'табтал', 'пробойник, долбежник', 'III', 'табталол', None, None, None)\n",
      "('53, 160, 177', 'хъабалай', 'кабалай (кавказское женское праздничное платье)', 'V', 'хъабалойл', None, None, None)\n",
      "('39', 'ч1абат1', 'сера', None, None, None, None, None)\n",
      "('39, 140, 167', 'ч1абдил', 'мягкая болотная трава', 'III', 'ч1абдилол', None, None, None)\n"
     ]
    }
   ],
   "source": [
    "for row in c.execute('SELECT * FROM sul_nouns WHERE слово LIKE \"%аб%\"'):\n",
    "    print(row)"
   ]
  },
  {
   "cell_type": "markdown",
   "metadata": {},
   "source": [
    "График показывает распределение по классам существительных андийского языка, взятых из дисс. (Сулейманов). Большая часть существительных в таблице принадлежит 3 классу. Следующие по размеру группы - 4 и 5 класс. 3, 4, 5 класс отвечают за неживые предметы. Существительные 1 и 2 класса, обозначающие людей, составляют относительно небольшую часть существительных. \n",
    "Однако, эти выводы трудно экстраполировать на весь андийский язык. Во-первых, не факт, что слова, упомянутые в диссертации, распределены по классам в таком же соотношении как в языке в целом. Во-вторых, ещё не все данные внесены в таблицу. \n",
    "I/II класс - это существительные, обозначающие людей в целом (мужчину или женщину - зависит от контекста). I/II/IV - класс также зависит от контекста. III // V - в разных местах диссертации автор указывает разные классы для 1 слова. Это не вариативность, а скорее всего ошибка."
   ]
  },
  {
   "cell_type": "code",
   "execution_count": 16,
   "metadata": {},
   "outputs": [
    {
     "data": {
      "image/png": "[encoded data removed]",
      "text/plain": [
       "<Figure size 432x288 with 1 Axes>"
      ]
     },
     "metadata": {
      "needs_background": "light"
     },
     "output_type": "display_data"
    }
   ],
   "source": [
    "import matplotlib.pyplot as plt\n",
    "sul_nouns['класс'].value_counts().plot.bar(color='pink');\n",
    "plt.title('Класс')\n",
    "plt.xlabel('Класс')\n",
    "plt.ylabel('Количество существительных');"
   ]
  },
  {
   "cell_type": "markdown",
   "metadata": {},
   "source": [
    "То же самое, но в виде пайчарта. Я считаю предыдущий график более уместным, так как он показывает абсолютное число вхождений существительных каждого класса в таблицу."
   ]
  },
  {
   "cell_type": "code",
   "execution_count": 17,
   "metadata": {},
   "outputs": [
    {
     "data": {
      "image/png": "[encoded data removed]",
      "text/plain": [
       "<Figure size 864x864 with 1 Axes>"
      ]
     },
     "metadata": {},
     "output_type": "display_data"
    }
   ],
   "source": [
    "plt.figure(figsize=(12, 12))\n",
    "sul_nouns['класс'].value_counts().plot(kind='pie');\n",
    "plt.title('Класс');"
   ]
  },
  {
   "cell_type": "markdown",
   "metadata": {},
   "source": [
    "В диссертации (Алисултанова) автор даёт информацию о происхождении андийских слов. Эта информация находится в моей таблице в стобце \"комментарии\".\n",
    "Из столбца \"комментарии\" я выбираю информацию о том, откуда заимствовано то или иное слово, если она есть. (На самом деле, там есть ещё комментарии вида \"заимствовано из арабского через аварский\", но я не стала учитывать их в этом графике для простоты картинки) \n",
    "График показывает, что аварских и русских заимствований в андийском языке больше всего, что логично с точки зрения социолингвистической ситуации в андийских сёлах.\n",
    "Далее идут арабские, персидские и тюркские заимствования. \n",
    "Однако все эти результаты, как я уже писала выше, весьма предварительные."
   ]
  },
  {
   "cell_type": "code",
   "execution_count": 18,
   "metadata": {
    "scrolled": true
   },
   "outputs": [
    {
     "data": {
      "image/png": "[encoded data removed]",
      "text/plain": [
       "<Figure size 432x288 with 1 Axes>"
      ]
     },
     "metadata": {
      "needs_background": "light"
     },
     "output_type": "display_data"
    }
   ],
   "source": [
    "borr = ali[ali.комментарии.isin(('авар.', 'русск.', 'араб.', 'перс.', 'тюрк.'))]\n",
    "borr['комментарии'].value_counts().plot.bar(color='blue'); \n",
    "plt.title('Происхождение андийских слов')\n",
    "plt.xlabel('происхождение')\n",
    "plt.ylabel('количество слов');"
   ]
  },
  {
   "cell_type": "markdown",
   "metadata": {},
   "source": [
    "Построим график распределения длины андийских существительных. Одна переменная => подходит гистограмма."
   ]
  },
  {
   "cell_type": "code",
   "execution_count": 19,
   "metadata": {},
   "outputs": [
    {
     "name": "stderr",
     "output_type": "stream",
     "text": [
      "C:\\Users\\User\\AppData\\Local\\Packages\\PythonSoftwareFoundation.Python.3.8_qbz5n2kfra8p0\\LocalCache\\local-packages\\Python38\\site-packages\\seaborn\\distributions.py:2551: FutureWarning: `distplot` is a deprecated function and will be removed in a future version. Please adapt your code to use either `displot` (a figure-level function with similar flexibility) or `histplot` (an axes-level function for histograms).\n",
      "  warnings.warn(msg, FutureWarning)\n"
     ]
    },
    {
     "data": {
      "image/png": "[encoded data removed]",
      "text/plain": [
       "<Figure size 720x432 with 1 Axes>"
      ]
     },
     "metadata": {
      "needs_background": "light"
     },
     "output_type": "display_data"
    }
   ],
   "source": [
    "import seaborn as sns\n",
    "sul_nouns['length'] = sul_nouns['слово'].apply(len)\n",
    "plt.figure(figsize=(10, 6))\n",
    "sns.distplot(sul_nouns['length'], bins=18, color='yellow')\n",
    "plt.title('Распределение длины существительных')\n",
    "plt.ylabel('%')\n",
    "plt.xlabel('Длина сущ-го');"
   ]
  },
  {
   "cell_type": "markdown",
   "metadata": {},
   "source": [
    "Но что это за слово из 50 символов?\n",
    "А это просто в одной ячейке перечислено много вариантов одного слова, встреченных в диссертации.\n",
    "И такое встречается в таблице регулярно, поэтому выводы никакие на этих данных лучше не делать."
   ]
  },
  {
   "cell_type": "code",
   "execution_count": 20,
   "metadata": {},
   "outputs": [
    {
     "name": "stdout",
     "output_type": "stream",
     "text": [
      "         страница                                              слово перевод  \\\n",
      "132  51, 139, 167  бехмугъул // мехмугъул // беххмугъол // меххму...  курдюк   \n",
      "\n",
      "    класс                            pl  obl пример комментарий  length  \n",
      "132   III  беххмугъолол // меххмугъолол  NaN    NaN         NaN      50  \n"
     ]
    }
   ],
   "source": [
    "print(sul_nouns[sul_nouns['length']==50])"
   ]
  },
  {
   "cell_type": "code",
   "execution_count": 21,
   "metadata": {},
   "outputs": [],
   "source": [
    "conn.commit()\n",
    "conn.close()"
   ]
  }
 ],
 "metadata": {
  "kernelspec": {
   "display_name": "Python 3",
   "language": "python",
   "name": "python3"
  },
  "language_info": {
   "codemirror_mode": {
    "name": "ipython",
    "version": 3
   },
   "file_extension": ".py",
   "mimetype": "text/x-python",
   "name": "python",
   "nbconvert_exporter": "python",
   "pygments_lexer": "ipython3",
   "version": "3.8.6"
  }
 },
 "nbformat": 4,
 "nbformat_minor": 4
}
